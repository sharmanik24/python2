{
 "cells": [
  {
   "cell_type": "markdown",
   "id": "ba059b63-1b83-42b0-aa62-fc9b97662cf1",
   "metadata": {},
   "source": [
    "1. Write a python program to convert kms to miles ?\n"
   ]
  },
  {
   "cell_type": "code",
   "execution_count": 1,
   "id": "9f7e324c-6a01-4667-a501-672565113d02",
   "metadata": {},
   "outputs": [
    {
     "name": "stdin",
     "output_type": "stream",
     "text": [
      "Enter the value of kms to be converted into miles:  34\n"
     ]
    },
    {
     "name": "stdout",
     "output_type": "stream",
     "text": [
      "The value in miles =  21.126614\n"
     ]
    }
   ],
   "source": [
    "#Convert kms to miles\n",
    "\n",
    "num=int(input(\"Enter the value of kms to be converted into miles: \"))\n",
    "mil=num*0.621371\n",
    "print(\"The value in miles = \",mil)"
   ]
  },
  {
   "cell_type": "markdown",
   "id": "a3c94d67-b50e-44af-b5df-c5182ac26a3b",
   "metadata": {},
   "source": [
    "2. Write a python program to convert celcius into fahrenheit?\n"
   ]
  },
  {
   "cell_type": "code",
   "execution_count": 2,
   "id": "e31ea699-f90a-4d42-b826-f0659faad090",
   "metadata": {},
   "outputs": [
    {
     "name": "stdin",
     "output_type": "stream",
     "text": [
      "Enter celcius temprature:  45\n"
     ]
    },
    {
     "name": "stdout",
     "output_type": "stream",
     "text": [
      "The temprature in fahrenheit is:  113.0\n"
     ]
    }
   ],
   "source": [
    "# Convert celcius to fahrenheit\n",
    "\n",
    "c=float(input(\"Enter celcius temprature: \"))\n",
    "f=c*(9/5)+32\n",
    "print(\"The temprature in fahrenheit is: \",f)"
   ]
  },
  {
   "cell_type": "code",
   "execution_count": 4,
   "id": "2b8f5fd1-1ae3-4915-9fe2-bf4bbee6c410",
   "metadata": {},
   "outputs": [
    {
     "name": "stdout",
     "output_type": "stream",
     "text": [
      "Object `calendar` not found.\n"
     ]
    }
   ],
   "source": [
    "3. Write a python program to display calendar?"
   ]
  },
  {
   "cell_type": "code",
   "execution_count": 5,
   "id": "4ac7dbcc-74af-4adf-9586-f06661ed5a7b",
   "metadata": {},
   "outputs": [
    {
     "name": "stdin",
     "output_type": "stream",
     "text": [
      "enter year:  1994\n",
      "enter month:  11\n"
     ]
    },
    {
     "name": "stdout",
     "output_type": "stream",
     "text": [
      "   November 1994\n",
      "Mo Tu We Th Fr Sa Su\n",
      "    1  2  3  4  5  6\n",
      " 7  8  9 10 11 12 13\n",
      "14 15 16 17 18 19 20\n",
      "21 22 23 24 25 26 27\n",
      "28 29 30\n",
      "\n",
      "                                  1994\n",
      "\n",
      "      January                   February                   March\n",
      "Mo Tu We Th Fr Sa Su      Mo Tu We Th Fr Sa Su      Mo Tu We Th Fr Sa Su\n",
      "                1  2          1  2  3  4  5  6          1  2  3  4  5  6\n",
      " 3  4  5  6  7  8  9       7  8  9 10 11 12 13       7  8  9 10 11 12 13\n",
      "10 11 12 13 14 15 16      14 15 16 17 18 19 20      14 15 16 17 18 19 20\n",
      "17 18 19 20 21 22 23      21 22 23 24 25 26 27      21 22 23 24 25 26 27\n",
      "24 25 26 27 28 29 30      28                        28 29 30 31\n",
      "31\n",
      "\n",
      "       April                      May                       June\n",
      "Mo Tu We Th Fr Sa Su      Mo Tu We Th Fr Sa Su      Mo Tu We Th Fr Sa Su\n",
      "             1  2  3                         1             1  2  3  4  5\n",
      " 4  5  6  7  8  9 10       2  3  4  5  6  7  8       6  7  8  9 10 11 12\n",
      "11 12 13 14 15 16 17       9 10 11 12 13 14 15      13 14 15 16 17 18 19\n",
      "18 19 20 21 22 23 24      16 17 18 19 20 21 22      20 21 22 23 24 25 26\n",
      "25 26 27 28 29 30         23 24 25 26 27 28 29      27 28 29 30\n",
      "                          30 31\n",
      "\n",
      "        July                     August                  September\n",
      "Mo Tu We Th Fr Sa Su      Mo Tu We Th Fr Sa Su      Mo Tu We Th Fr Sa Su\n",
      "             1  2  3       1  2  3  4  5  6  7                1  2  3  4\n",
      " 4  5  6  7  8  9 10       8  9 10 11 12 13 14       5  6  7  8  9 10 11\n",
      "11 12 13 14 15 16 17      15 16 17 18 19 20 21      12 13 14 15 16 17 18\n",
      "18 19 20 21 22 23 24      22 23 24 25 26 27 28      19 20 21 22 23 24 25\n",
      "25 26 27 28 29 30 31      29 30 31                  26 27 28 29 30\n",
      "\n",
      "      October                   November                  December\n",
      "Mo Tu We Th Fr Sa Su      Mo Tu We Th Fr Sa Su      Mo Tu We Th Fr Sa Su\n",
      "                1  2          1  2  3  4  5  6                1  2  3  4\n",
      " 3  4  5  6  7  8  9       7  8  9 10 11 12 13       5  6  7  8  9 10 11\n",
      "10 11 12 13 14 15 16      14 15 16 17 18 19 20      12 13 14 15 16 17 18\n",
      "17 18 19 20 21 22 23      21 22 23 24 25 26 27      19 20 21 22 23 24 25\n",
      "24 25 26 27 28 29 30      28 29 30                  26 27 28 29 30 31\n",
      "31\n",
      "\n"
     ]
    }
   ],
   "source": [
    "# Program to display calender\n",
    "\n",
    "import calendar\n",
    "year=int(input(\"enter year: \"))\n",
    "month=int(input(\"enter month: \"))\n",
    "\n",
    "\n",
    "print(calendar.month(year,month))\n",
    "\n",
    "\n",
    "print(calendar.calendar(year))"
   ]
  },
  {
   "cell_type": "code",
   "execution_count": 6,
   "id": "3a0a1db2-5b27-4bc9-960c-ab435bbefaf1",
   "metadata": {},
   "outputs": [
    {
     "name": "stdout",
     "output_type": "stream",
     "text": [
      "Object `equation` not found.\n"
     ]
    }
   ],
   "source": [
    "4. Write a python program to solve quadratric equation?\n"
   ]
  },
  {
   "cell_type": "code",
   "execution_count": 7,
   "id": "2e915998-bb1e-464c-b59c-4620013c3b82",
   "metadata": {},
   "outputs": [
    {
     "name": "stdin",
     "output_type": "stream",
     "text": [
      "enter value for a:  23\n",
      "enter value for b:  45\n",
      "enter value for c:  65\n"
     ]
    },
    {
     "name": "stdout",
     "output_type": "stream",
     "text": [
      "The roots of the given quadratric equation are  (-0.9782608695652174-1.3671476246547933j) and (-0.9782608695652174+1.3671476246547933j)\n"
     ]
    }
   ],
   "source": [
    "# Quadratric equation\n",
    "\n",
    "import cmath\n",
    "a=int(input(\"enter value for a: \"))\n",
    "b=int(input(\"enter value for b: \"))\n",
    "c=int(input(\"enter value for c: \"))\n",
    "\n",
    "d=b**2-(4*a*c)\n",
    "\n",
    "root1=(-b-cmath.sqrt(d))/(2*a)\n",
    "root2=(-b+cmath.sqrt(d))/(2*a)\n",
    "\n",
    "print(\"The roots of the given quadratric equation are \", root1, \"and\", root2)"
   ]
  },
  {
   "cell_type": "code",
   "execution_count": null,
   "id": "118cae9c-f41a-4b0b-83eb-448266737954",
   "metadata": {},
   "outputs": [],
   "source": [
    "5. Write a python program to swap two variables without using temp variable?\n"
   ]
  }
 ],
 "metadata": {
  "kernelspec": {
   "display_name": "Python 3 (ipykernel)",
   "language": "python",
   "name": "python3"
  },
  "language_info": {
   "codemirror_mode": {
    "name": "ipython",
    "version": 3
   },
   "file_extension": ".py",
   "mimetype": "text/x-python",
   "name": "python",
   "nbconvert_exporter": "python",
   "pygments_lexer": "ipython3",
   "version": "3.10.6"
  }
 },
 "nbformat": 4,
 "nbformat_minor": 5
}
